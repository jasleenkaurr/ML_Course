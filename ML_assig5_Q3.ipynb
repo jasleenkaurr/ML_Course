{
  "nbformat": 4,
  "nbformat_minor": 0,
  "metadata": {
    "colab": {
      "provenance": [],
      "authorship_tag": "ABX9TyMcGmpRhGRZC3dkt900IeUl",
      "include_colab_link": true
    },
    "kernelspec": {
      "name": "python3",
      "display_name": "Python 3"
    },
    "language_info": {
      "name": "python"
    }
  },
  "cells": [
    {
      "cell_type": "markdown",
      "metadata": {
        "id": "view-in-github",
        "colab_type": "text"
      },
      "source": [
        "<a href=\"https://colab.research.google.com/github/jasleenkaurr/ML_Course/blob/main/ML_assig5_Q3.ipynb\" target=\"_parent\"><img src=\"https://colab.research.google.com/assets/colab-badge.svg\" alt=\"Open In Colab\"/></a>"
      ]
    },
    {
      "cell_type": "markdown",
      "source": [
        "Q3.Download the Bank Note Authentication Dataset from the following link\n",
        "https://drive.google.com/file/d/12r4j7yjGC4s_TigKEHyISSY1NSPzF3eX/vi\n",
        "ew?usp=sharing\n",
        "The dataset contains following four input features computed from\n",
        "400X400 images of bank notes:\n",
        "1. variance of Wavelet Transformed image (continuous)\n",
        "2. skewness of Wavelet Transformed image (continuous)\n",
        "3. Curtosis of Wavelet Transformed image (continuous)\n",
        "4. entropy of image (continuous)\n",
        "Each instance is labelled as fake (label 0) or authentic (label 1).\n",
        "For the given dataset, implement Decision Tree-based CART algorithm"
      ],
      "metadata": {
        "id": "_HSAe3DYDYZc"
      }
    },
    {
      "cell_type": "markdown",
      "source": [
        "Certainly! Here's how you can implement the Decision Tree-based CART (Classification and Regression Trees) algorithm using the Bank Note Authentication dataset in a Google Colab notebook:\n",
        "\n",
        "### Step 1: Load the Dataset\n",
        "\n",
        "First, download the dataset from the provided Google Drive link and load it into your Google Colab notebook.\n",
        "\n",
        "```python\n",
        "# Import necessary libraries\n",
        "import pandas as pd\n",
        "\n",
        "# Load the Bank Note Authentication dataset from Google Drive\n",
        "url = \"https://drive.google.com/uc?id=12r4j7yjGC4s_TigKEHyISSY1NSPzF3eX\"\n",
        "banknote_data = pd.read_csv(url)\n",
        "\n",
        "# Explore the dataset\n",
        "print(banknote_data.head())\n",
        "```\n",
        "\n",
        "### Step 2: Preprocess the Data\n",
        "\n",
        "Prepare the features and target variable for training the Decision Tree classifier.\n",
        "\n",
        "```python\n",
        "# Extract features and target variable\n",
        "X = banknote_data.drop(columns=[\"class\"])\n",
        "y = banknote_data[\"class\"]\n",
        "\n",
        "# Split the data into training and testing sets\n",
        "from sklearn.model_selection import train_test_split\n",
        "X_train, X_test, y_train, y_test = train_test_split(X, y, test_size=0.2, random_state=42)\n",
        "```\n",
        "\n",
        "### Step 3: Implement Decision Tree Classifier (CART Algorithm)\n",
        "\n",
        "Implement the Decision Tree classifier (CART algorithm) and train it on the training data.\n",
        "\n",
        "```python\n",
        "# Import DecisionTreeClassifier from scikit-learn\n",
        "from sklearn.tree import DecisionTreeClassifier\n",
        "\n",
        "# Initialize Decision Tree classifier\n",
        "clf = DecisionTreeClassifier(random_state=42)\n",
        "\n",
        "# Train the classifier on the training data\n",
        "clf.fit(X_train, y_train)\n",
        "\n",
        "# Make predictions on the test data\n",
        "predictions = clf.predict(X_test)\n",
        "\n",
        "# Evaluate the model\n",
        "from sklearn.metrics import accuracy_score, classification_report\n",
        "accuracy = accuracy_score(y_test, predictions)\n",
        "print(\"Accuracy:\", accuracy)\n",
        "print(\"Classification Report:\")\n",
        "print(classification_report(y_test, predictions))\n",
        "```\n",
        "\n",
        "In this code, the `DecisionTreeClassifier` is initialized with the default parameters, and the model is trained and evaluated on the Bank Note Authentication dataset. You can further fine-tune the model by experimenting with different parameters or techniques like cross-validation. Run these code cells in a Google Colab notebook to perform the analysis on the given dataset."
      ],
      "metadata": {
        "id": "9ConojcUEElG"
      }
    },
    {
      "cell_type": "code",
      "source": [
        "import pandas as pd\n"
      ],
      "metadata": {
        "id": "YPtHOwoIDfmr"
      },
      "execution_count": 1,
      "outputs": []
    },
    {
      "cell_type": "code",
      "source": [
        "banknote_data = pd.read_csv('/content/BankNote_Authentication.csv')\n"
      ],
      "metadata": {
        "id": "tY74CsulDue7"
      },
      "execution_count": 2,
      "outputs": []
    },
    {
      "cell_type": "code",
      "source": [
        "print(banknote_data.head())\n"
      ],
      "metadata": {
        "colab": {
          "base_uri": "https://localhost:8080/"
        },
        "id": "Qh1oQQ75D2uk",
        "outputId": "0870a6e6-fc6c-4f15-e86e-06eec27883c7"
      },
      "execution_count": 3,
      "outputs": [
        {
          "output_type": "stream",
          "name": "stdout",
          "text": [
            "   variance  skewness  curtosis  entropy  class\n",
            "0   3.62160    8.6661   -2.8073 -0.44699      0\n",
            "1   4.54590    8.1674   -2.4586 -1.46210      0\n",
            "2   3.86600   -2.6383    1.9242  0.10645      0\n",
            "3   3.45660    9.5228   -4.0112 -3.59440      0\n",
            "4   0.32924   -4.4552    4.5718 -0.98880      0\n"
          ]
        }
      ]
    },
    {
      "cell_type": "code",
      "source": [
        "X = banknote_data.drop(columns=[\"class\"])\n",
        "y = banknote_data[\"class\"]\n"
      ],
      "metadata": {
        "id": "1uwgg-YED5N2"
      },
      "execution_count": 4,
      "outputs": []
    },
    {
      "cell_type": "code",
      "source": [
        "from sklearn.model_selection import train_test_split\n",
        "X_train, X_test, y_train, y_test = train_test_split(X, y, test_size=0.2, random_state=42)\n"
      ],
      "metadata": {
        "id": "QKNsak6WD9lj"
      },
      "execution_count": 5,
      "outputs": []
    },
    {
      "cell_type": "code",
      "source": [
        "# Import DecisionTreeClassifier from scikit-learn\n",
        "from sklearn.tree import DecisionTreeClassifier\n",
        "\n",
        "# Initialize Decision Tree classifier\n",
        "clf = DecisionTreeClassifier(random_state=42)\n",
        "\n",
        "# Train the classifier on the training data\n",
        "clf.fit(X_train, y_train)\n",
        "\n",
        "# Make predictions on the test data\n",
        "predictions = clf.predict(X_test)\n",
        "\n",
        "# Evaluate the model\n",
        "from sklearn.metrics import accuracy_score, classification_report\n",
        "accuracy = accuracy_score(y_test, predictions)\n",
        "print(\"Accuracy:\", accuracy)\n",
        "print(\"Classification Report:\")\n",
        "print(classification_report(y_test, predictions))\n"
      ],
      "metadata": {
        "colab": {
          "base_uri": "https://localhost:8080/"
        },
        "id": "7xuHH6XiEALU",
        "outputId": "233fe9c8-999d-4eb9-d145-3446d44bd033"
      },
      "execution_count": 6,
      "outputs": [
        {
          "output_type": "stream",
          "name": "stdout",
          "text": [
            "Accuracy: 0.9818181818181818\n",
            "Classification Report:\n",
            "              precision    recall  f1-score   support\n",
            "\n",
            "           0       0.97      1.00      0.98       148\n",
            "           1       1.00      0.96      0.98       127\n",
            "\n",
            "    accuracy                           0.98       275\n",
            "   macro avg       0.98      0.98      0.98       275\n",
            "weighted avg       0.98      0.98      0.98       275\n",
            "\n"
          ]
        }
      ]
    }
  ]
}