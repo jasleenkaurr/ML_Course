{
  "nbformat": 4,
  "nbformat_minor": 0,
  "metadata": {
    "colab": {
      "provenance": [],
      "authorship_tag": "ABX9TyMBoUBaEHA6LJY0ifjEJfa1",
      "include_colab_link": true
    },
    "kernelspec": {
      "name": "python3",
      "display_name": "Python 3"
    },
    "language_info": {
      "name": "python"
    }
  },
  "cells": [
    {
      "cell_type": "markdown",
      "metadata": {
        "id": "view-in-github",
        "colab_type": "text"
      },
      "source": [
        "<a href=\"https://colab.research.google.com/github/jasleenkaurr/ML_Course/blob/main/ML_assig5_Q1.ipynb\" target=\"_parent\"><img src=\"https://colab.research.google.com/assets/colab-badge.svg\" alt=\"Open In Colab\"/></a>"
      ]
    },
    {
      "cell_type": "markdown",
      "source": [
        "Q. Multiclass Logistic Regression: Implement Multiclass Logistic Regression\n",
        "(step-by step) on Iris dataset using one vs. rest strategy?\n"
      ],
      "metadata": {
        "id": "CLSvVYCo8OXx"
      }
    },
    {
      "cell_type": "markdown",
      "source": [
        "Certainly! Implementing Multiclass Logistic Regression using the one-vs-rest (also known as one-vs-all) strategy on the Iris dataset in a Google Colab notebook involves several steps. Below is a step-by-step guide on how to achieve this:\n",
        "\n",
        "### Step 1: Import Libraries\n",
        "\n",
        "First, import the necessary libraries including NumPy, Pandas, Sklearn, and logistic regression functions.\n",
        "\n",
        "```python\n",
        "import numpy as np\n",
        "import pandas as pd\n",
        "from sklearn import datasets\n",
        "from sklearn.model_selection import train_test_split\n",
        "from sklearn.preprocessing import StandardScaler\n",
        "from sklearn.linear_model import LogisticRegression\n",
        "from sklearn.metrics import accuracy_score\n",
        "```\n",
        "\n",
        "### Step 2: Load and Explore the Iris Dataset\n",
        "\n",
        "Load the Iris dataset using sklearn and explore its features and classes.\n",
        "\n",
        "```python\n",
        "# Load Iris dataset\n",
        "iris = datasets.load_iris()\n",
        "X = iris.data\n",
        "y = iris.target\n",
        "\n",
        "# Split the data into training and testing sets\n",
        "X_train, X_test, y_train, y_test = train_test_split(X, y, test_size=0.2, random_state=42)\n",
        "\n",
        "# Standardize features by removing the mean and scaling to unit variance\n",
        "scaler = StandardScaler()\n",
        "X_train = scaler.fit_transform(X_train)\n",
        "X_test = scaler.transform(X_test)\n",
        "```\n",
        "\n",
        "### Step 3: Implement One-vs-Rest Logistic Regression\n",
        "\n",
        "Implement one-vs-rest strategy using Logistic Regression classifiers for each class.\n",
        "\n",
        "```python\n",
        "# Initialize an empty list to store classifiers\n",
        "classifiers = []\n",
        "\n",
        "# Loop through each class and fit a binary Logistic Regression classifier\n",
        "for i in range(len(np.unique(y))):\n",
        "    # Create a binary target variable (1 for the current class, 0 for all other classes)\n",
        "    binary_y_train = np.where(y_train == i, 1, 0)\n",
        "    \n",
        "    # Initialize Logistic Regression classifier and fit it to the data\n",
        "    classifier = LogisticRegression()\n",
        "    classifier.fit(X_train, binary_y_train)\n",
        "    \n",
        "    # Add the trained classifier to the list\n",
        "    classifiers.append(classifier)\n",
        "```\n",
        "\n",
        "### Step 4: Make Predictions and Evaluate the Model\n",
        "\n",
        "Make predictions using the trained classifiers and evaluate the overall accuracy.\n",
        "\n",
        "```python\n",
        "# Initialize an empty array to store predictions\n",
        "predictions = np.zeros((len(X_test), len(classifiers)))\n",
        "\n",
        "# Make predictions using each binary classifier\n",
        "for i, classifier in enumerate(classifiers):\n",
        "    predictions[:, i] = classifier.predict(X_test)\n",
        "\n",
        "# Convert binary predictions to multiclass predictions\n",
        "multiclass_predictions = np.argmax(predictions, axis=1)\n",
        "\n",
        "# Calculate accuracy\n",
        "accuracy = accuracy_score(y_test, multiclass_predictions)\n",
        "print(\"Accuracy:\", accuracy)\n",
        "```\n",
        "\n",
        "This code snippet demonstrates how to implement Multiclass Logistic Regression using the one-vs-rest strategy on the Iris dataset in a Google Colab notebook. Make sure to run each code cell in sequence to successfully execute the implementation.\n"
      ],
      "metadata": {
        "id": "qPaPBA3J744L"
      }
    },
    {
      "cell_type": "code",
      "execution_count": 1,
      "metadata": {
        "id": "dR_iIa3_0_47"
      },
      "outputs": [],
      "source": [
        "import seaborn as sns\n",
        "import matplotlib.pyplot as plt"
      ]
    },
    {
      "cell_type": "code",
      "source": [
        "iris = sns.load_dataset(\"iris\")\n"
      ],
      "metadata": {
        "id": "mnibidqk2eTU"
      },
      "execution_count": 2,
      "outputs": []
    },
    {
      "cell_type": "code",
      "source": [
        "plt.show()"
      ],
      "metadata": {
        "id": "aawH7C163Jdr"
      },
      "execution_count": 3,
      "outputs": []
    },
    {
      "cell_type": "code",
      "source": [
        "from sklearn import datasets"
      ],
      "metadata": {
        "id": "06ZpW9AE4Dan"
      },
      "execution_count": 5,
      "outputs": []
    },
    {
      "cell_type": "code",
      "source": [
        "iris = datasets.load_iris()\n"
      ],
      "metadata": {
        "id": "T9RreU-g4PWn"
      },
      "execution_count": 7,
      "outputs": []
    },
    {
      "cell_type": "code",
      "source": [
        "X = iris.data\n",
        "y = iris.target"
      ],
      "metadata": {
        "id": "oVdsN2Jq4Q2C"
      },
      "execution_count": 8,
      "outputs": []
    },
    {
      "cell_type": "code",
      "source": [
        "from sklearn.model_selection import train_test_split"
      ],
      "metadata": {
        "id": "ukegqzgN5KAR"
      },
      "execution_count": 10,
      "outputs": []
    },
    {
      "cell_type": "code",
      "source": [
        "X_train, X_test, y_train, y_test = train_test_split(X, y, test_size=0.2, random_state=42)\n"
      ],
      "metadata": {
        "id": "i4KeScrh5Lme"
      },
      "execution_count": 11,
      "outputs": []
    },
    {
      "cell_type": "code",
      "source": [
        "from sklearn.preprocessing import StandardScaler"
      ],
      "metadata": {
        "id": "8XA81Ce95Okg"
      },
      "execution_count": 12,
      "outputs": []
    },
    {
      "cell_type": "code",
      "source": [
        "scaler = StandardScaler()\n",
        "X_train = scaler.fit_transform(X_train)\n",
        "X_test = scaler.transform(X_test)"
      ],
      "metadata": {
        "id": "sed-jNYu5RJM"
      },
      "execution_count": 13,
      "outputs": []
    },
    {
      "cell_type": "code",
      "source": [
        "import numpy as np\n",
        "import pandas as pd"
      ],
      "metadata": {
        "id": "mWkAbkmn5r7X"
      },
      "execution_count": 14,
      "outputs": []
    },
    {
      "cell_type": "code",
      "source": [
        "from sklearn.linear_model import LogisticRegression\n",
        "from sklearn.metrics import accuracy_score"
      ],
      "metadata": {
        "id": "R6DowZgs5tC5"
      },
      "execution_count": 15,
      "outputs": []
    },
    {
      "cell_type": "code",
      "source": [
        "classifiers = []\n"
      ],
      "metadata": {
        "id": "Vg1VbknF5vNi"
      },
      "execution_count": 16,
      "outputs": []
    },
    {
      "cell_type": "code",
      "source": [
        "for i in range(len(np.unique(y))):\n",
        "    binary_y_train = np.where(y_train == i, 1, 0)\n",
        "    classifier = LogisticRegression()\n",
        "    classifier.fit(X_train, binary_y_train)\n",
        "    classifiers.append(classifier)"
      ],
      "metadata": {
        "id": "je77UNKL59uE"
      },
      "execution_count": 17,
      "outputs": []
    },
    {
      "cell_type": "code",
      "source": [
        "predictions = np.zeros((len(X_test), len(classifiers)))\n",
        "for i, classifier in enumerate(classifiers):\n",
        "    predictions[:, i] = classifier.predict(X_test)\n",
        "    multiclass_predictions = np.argmax(predictions, axis=1)\n",
        "accuracy = accuracy_score(y_test, multiclass_predictions)\n",
        "print(\"Accuracy:\", accuracy)"
      ],
      "metadata": {
        "colab": {
          "base_uri": "https://localhost:8080/"
        },
        "id": "P0APC2o36Kk1",
        "outputId": "60ccdc7f-48f6-498d-a1bb-22724511fd1d"
      },
      "execution_count": 18,
      "outputs": [
        {
          "output_type": "stream",
          "name": "stdout",
          "text": [
            "Accuracy: 0.8\n"
          ]
        }
      ]
    }
  ]
}