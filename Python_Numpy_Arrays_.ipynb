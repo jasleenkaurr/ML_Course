{
  "cells": [
    {
      "cell_type": "markdown",
      "metadata": {
        "id": "view-in-github",
        "colab_type": "text"
      },
      "source": [
        "<a href=\"https://colab.research.google.com/github/jasleenkaurr/ML_Course/blob/main/Python_Numpy_Arrays_.ipynb\" target=\"_parent\"><img src=\"https://colab.research.google.com/assets/colab-badge.svg\" alt=\"Open In Colab\"/></a>"
      ]
    },
    {
      "cell_type": "markdown",
      "id": "a6ee34e0",
      "metadata": {
        "id": "a6ee34e0"
      },
      "source": [
        "# Python Numpy Arrays"
      ]
    },
    {
      "cell_type": "markdown",
      "id": "332fa60e",
      "metadata": {
        "id": "332fa60e"
      },
      "source": [
        "## Numpy Tutorials\n",
        "NumPy is a general-purpose array-processing package. It provides a high-performance multidimensional array object, and tools for working with these arrays. It is the fundamental package for scientific computing with Python"
      ]
    },
    {
      "cell_type": "markdown",
      "id": "07522d00",
      "metadata": {
        "id": "07522d00"
      },
      "source": [
        "## What is an array\n",
        "An array is a data structure that stores values of same data type. In Python, this is the main difference between arrays and lists. While python lists can contain values corresponding to different data types, arrays in python can only contain values corresponding to same data type"
      ]
    },
    {
      "cell_type": "code",
      "execution_count": null,
      "id": "b185b2c6",
      "metadata": {
        "id": "b185b2c6"
      },
      "outputs": [],
      "source": [
        "## import the library\n",
        "import numpy as np"
      ]
    },
    {
      "cell_type": "code",
      "execution_count": null,
      "id": "bb1b5a35",
      "metadata": {
        "id": "bb1b5a35"
      },
      "outputs": [],
      "source": [
        "lst=[1,2,3,4]\n",
        "arr=np.array(lst)"
      ]
    },
    {
      "cell_type": "code",
      "execution_count": null,
      "id": "1f8d70bb",
      "metadata": {
        "id": "1f8d70bb",
        "outputId": "8b79c98c-ec7c-481d-f712-3c9aa8743588"
      },
      "outputs": [
        {
          "data": {
            "text/plain": [
              "numpy.ndarray"
            ]
          },
          "execution_count": 4,
          "metadata": {},
          "output_type": "execute_result"
        }
      ],
      "source": [
        "type(arr)"
      ]
    },
    {
      "cell_type": "code",
      "execution_count": null,
      "id": "d145b60f",
      "metadata": {
        "id": "d145b60f",
        "outputId": "dff2f151-e8f2-4826-c5b6-492a2bb44e50"
      },
      "outputs": [
        {
          "data": {
            "text/plain": [
              "(4,)"
            ]
          },
          "execution_count": 5,
          "metadata": {},
          "output_type": "execute_result"
        }
      ],
      "source": [
        "arr.shape"
      ]
    },
    {
      "cell_type": "code",
      "execution_count": null,
      "id": "d6f716b0",
      "metadata": {
        "id": "d6f716b0"
      },
      "outputs": [],
      "source": [
        "lst1=[1,2,3,4,5]\n",
        "lst2=[2,3,4,5,6]\n",
        "lst3=[3,4,5,6,7]\n",
        "\n",
        "arr1=np.array([lst1,lst2,lst3])"
      ]
    },
    {
      "cell_type": "code",
      "execution_count": null,
      "id": "a81d1013",
      "metadata": {
        "id": "a81d1013",
        "outputId": "b3ecaf9a-25b0-4990-d7c9-6a37c013f3ef"
      },
      "outputs": [
        {
          "data": {
            "text/plain": [
              "array([[1, 2, 3, 4, 5],\n",
              "       [2, 3, 4, 5, 6],\n",
              "       [3, 4, 5, 6, 7]])"
            ]
          },
          "execution_count": 9,
          "metadata": {},
          "output_type": "execute_result"
        }
      ],
      "source": [
        "arr1"
      ]
    },
    {
      "cell_type": "code",
      "execution_count": null,
      "id": "71f2ad15",
      "metadata": {
        "id": "71f2ad15",
        "outputId": "c31031cd-5b2c-416a-87f8-4bf2afe17c10"
      },
      "outputs": [
        {
          "data": {
            "text/plain": [
              "(3, 5)"
            ]
          },
          "execution_count": 8,
          "metadata": {},
          "output_type": "execute_result"
        }
      ],
      "source": [
        "arr1.shape"
      ]
    },
    {
      "cell_type": "code",
      "execution_count": null,
      "id": "23550f22",
      "metadata": {
        "id": "23550f22",
        "outputId": "ac273b07-06ac-4951-c9df-cee95c8928a0"
      },
      "outputs": [
        {
          "data": {
            "text/plain": [
              "array([1, 2, 3, 4])"
            ]
          },
          "execution_count": 10,
          "metadata": {},
          "output_type": "execute_result"
        }
      ],
      "source": [
        "arr"
      ]
    },
    {
      "cell_type": "code",
      "execution_count": null,
      "id": "a6090742",
      "metadata": {
        "id": "a6090742",
        "outputId": "9ab56b16-a5e3-46f4-b7b2-1c7d9dbef865"
      },
      "outputs": [
        {
          "data": {
            "text/plain": [
              "4"
            ]
          },
          "execution_count": 12,
          "metadata": {},
          "output_type": "execute_result"
        }
      ],
      "source": [
        "#indexing\n",
        "arr[3]"
      ]
    },
    {
      "cell_type": "code",
      "execution_count": null,
      "id": "17b36e76",
      "metadata": {
        "id": "17b36e76"
      },
      "outputs": [],
      "source": [
        "arr[3]=5"
      ]
    },
    {
      "cell_type": "code",
      "execution_count": null,
      "id": "55144bda",
      "metadata": {
        "id": "55144bda",
        "outputId": "4aa181a0-fd92-4be3-91ef-0fd2356bc97f"
      },
      "outputs": [
        {
          "data": {
            "text/plain": [
              "array([1, 2, 3, 5])"
            ]
          },
          "execution_count": 14,
          "metadata": {},
          "output_type": "execute_result"
        }
      ],
      "source": [
        "arr"
      ]
    },
    {
      "cell_type": "code",
      "execution_count": null,
      "id": "549a9c41",
      "metadata": {
        "id": "549a9c41",
        "outputId": "c26c4427-a5b2-4e19-cf08-18311038eec8"
      },
      "outputs": [
        {
          "data": {
            "text/plain": [
              "5"
            ]
          },
          "execution_count": 20,
          "metadata": {},
          "output_type": "execute_result"
        }
      ],
      "source": [
        "arr[-1]"
      ]
    },
    {
      "cell_type": "code",
      "execution_count": null,
      "id": "86917975",
      "metadata": {
        "id": "86917975",
        "outputId": "a6e380b9-6a71-4140-f46d-14ed40106b83"
      },
      "outputs": [
        {
          "data": {
            "text/plain": [
              "array([1, 2, 3])"
            ]
          },
          "execution_count": 21,
          "metadata": {},
          "output_type": "execute_result"
        }
      ],
      "source": [
        "arr[:-1]"
      ]
    },
    {
      "cell_type": "code",
      "execution_count": null,
      "id": "6944a7ac",
      "metadata": {
        "id": "6944a7ac",
        "outputId": "d601786d-1955-40ff-8516-c31900a4067f"
      },
      "outputs": [
        {
          "data": {
            "text/plain": [
              "array([5, 1])"
            ]
          },
          "execution_count": 25,
          "metadata": {},
          "output_type": "execute_result"
        }
      ],
      "source": [
        "arr[::-3]"
      ]
    },
    {
      "cell_type": "code",
      "execution_count": null,
      "id": "c45419ad",
      "metadata": {
        "id": "c45419ad",
        "outputId": "662dfd77-2da6-4b4a-9f93-7a0c4de87078"
      },
      "outputs": [
        {
          "data": {
            "text/plain": [
              "array([[1, 2, 3, 4, 5],\n",
              "       [2, 3, 4, 5, 6],\n",
              "       [3, 4, 5, 6, 7]])"
            ]
          },
          "execution_count": 26,
          "metadata": {},
          "output_type": "execute_result"
        }
      ],
      "source": [
        "arr1"
      ]
    },
    {
      "cell_type": "code",
      "execution_count": null,
      "id": "2cdcf9f7",
      "metadata": {
        "id": "2cdcf9f7",
        "outputId": "4078fdc8-87db-4b7c-b505-68af2a5c2ffe"
      },
      "outputs": [
        {
          "data": {
            "text/plain": [
              "(3, 2)"
            ]
          },
          "execution_count": 32,
          "metadata": {},
          "output_type": "execute_result"
        }
      ],
      "source": [
        "arr1[:,3:].shape"
      ]
    },
    {
      "cell_type": "code",
      "execution_count": null,
      "id": "5b67e1e5",
      "metadata": {
        "id": "5b67e1e5",
        "outputId": "be67165e-0dc6-49e4-dc5e-1a35335628d8"
      },
      "outputs": [
        {
          "data": {
            "text/plain": [
              "array([2, 3, 4])"
            ]
          },
          "execution_count": 28,
          "metadata": {},
          "output_type": "execute_result"
        }
      ],
      "source": [
        "arr1[:,1]"
      ]
    },
    {
      "cell_type": "code",
      "execution_count": null,
      "id": "59aab9ee",
      "metadata": {
        "id": "59aab9ee",
        "outputId": "1cc1b0c2-2b29-49a6-9d36-f4af74714b6a"
      },
      "outputs": [
        {
          "data": {
            "text/plain": [
              "array([[3, 4],\n",
              "       [4, 5]])"
            ]
          },
          "execution_count": 29,
          "metadata": {},
          "output_type": "execute_result"
        }
      ],
      "source": [
        "arr1[1:,1:3]"
      ]
    },
    {
      "cell_type": "code",
      "execution_count": null,
      "id": "060e8f8b",
      "metadata": {
        "id": "060e8f8b",
        "outputId": "d10a4fc2-05ba-4928-a03f-12c362d8a555"
      },
      "outputs": [
        {
          "data": {
            "text/plain": [
              "array([[5, 6],\n",
              "       [6, 7]])"
            ]
          },
          "execution_count": 30,
          "metadata": {},
          "output_type": "execute_result"
        }
      ],
      "source": [
        "arr1[1:,3:]"
      ]
    },
    {
      "cell_type": "code",
      "execution_count": null,
      "id": "a515ea9c",
      "metadata": {
        "id": "a515ea9c",
        "outputId": "7d33e45e-cc4d-49a7-9546-795160b15b14"
      },
      "outputs": [
        {
          "data": {
            "text/plain": [
              "array([1, 2, 3, 5])"
            ]
          },
          "execution_count": 33,
          "metadata": {},
          "output_type": "execute_result"
        }
      ],
      "source": [
        "##EDA\n",
        "arr"
      ]
    },
    {
      "cell_type": "code",
      "execution_count": null,
      "id": "55a75b02",
      "metadata": {
        "id": "55a75b02",
        "outputId": "3648fc3f-8a25-4843-c5d3-09240d5d7e04"
      },
      "outputs": [
        {
          "data": {
            "text/plain": [
              "array([1])"
            ]
          },
          "execution_count": 35,
          "metadata": {},
          "output_type": "execute_result"
        }
      ],
      "source": [
        "arr[arr<2]"
      ]
    },
    {
      "cell_type": "code",
      "execution_count": null,
      "id": "c9584f93",
      "metadata": {
        "id": "c9584f93",
        "outputId": "e4ad7a7e-007d-46af-aae9-44d2ae1c9294"
      },
      "outputs": [
        {
          "data": {
            "text/plain": [
              "array([[1, 2, 3, 4, 5],\n",
              "       [2, 3, 4, 5, 6],\n",
              "       [3, 4, 5, 6, 7]])"
            ]
          },
          "execution_count": 37,
          "metadata": {},
          "output_type": "execute_result"
        }
      ],
      "source": [
        "arr1"
      ]
    },
    {
      "cell_type": "code",
      "execution_count": null,
      "id": "6d6d0a24",
      "metadata": {
        "id": "6d6d0a24",
        "outputId": "71c2e782-0254-44b5-c536-4c10cb8b460c"
      },
      "outputs": [
        {
          "data": {
            "text/plain": [
              "array([[1, 2, 3],\n",
              "       [4, 5, 2],\n",
              "       [3, 4, 5],\n",
              "       [6, 3, 4],\n",
              "       [5, 6, 7]])"
            ]
          },
          "execution_count": 40,
          "metadata": {},
          "output_type": "execute_result"
        }
      ],
      "source": [
        "arr1.reshape(5,3)"
      ]
    },
    {
      "cell_type": "code",
      "execution_count": null,
      "id": "d1462081",
      "metadata": {
        "id": "d1462081",
        "outputId": "7d727a20-ceee-4ff1-81a7-3e5881f0af6a"
      },
      "outputs": [
        {
          "data": {
            "text/plain": [
              "array([[ 1,  3,  5,  7,  9],\n",
              "       [11, 13, 15, 17, 19]])"
            ]
          },
          "execution_count": 44,
          "metadata": {},
          "output_type": "execute_result"
        }
      ],
      "source": [
        "##mechanism to create an array\n",
        "np.arange(1,20,2).reshape(2,5)"
      ]
    },
    {
      "cell_type": "code",
      "execution_count": null,
      "id": "ce3eada1",
      "metadata": {
        "id": "ce3eada1",
        "outputId": "4efdfee1-dbfc-4853-ea73-2f6c9b86adb5"
      },
      "outputs": [
        {
          "data": {
            "text/plain": [
              "array([[[ 1],\n",
              "        [ 3],\n",
              "        [ 5],\n",
              "        [ 7],\n",
              "        [ 9]],\n",
              "\n",
              "       [[11],\n",
              "        [13],\n",
              "        [15],\n",
              "        [17],\n",
              "        [19]]])"
            ]
          },
          "execution_count": 47,
          "metadata": {},
          "output_type": "execute_result"
        }
      ],
      "source": [
        "np.arange(1,20,2).reshape(2,5,1)"
      ]
    },
    {
      "cell_type": "code",
      "execution_count": null,
      "id": "be8061d2",
      "metadata": {
        "id": "be8061d2",
        "outputId": "2b4ffd9f-4625-41bf-888a-2b3f9bae1752"
      },
      "outputs": [
        {
          "data": {
            "text/plain": [
              "array([ 1,  4,  9, 25])"
            ]
          },
          "execution_count": 49,
          "metadata": {},
          "output_type": "execute_result"
        }
      ],
      "source": [
        "arr *arr"
      ]
    },
    {
      "cell_type": "code",
      "execution_count": null,
      "id": "558ee842",
      "metadata": {
        "id": "558ee842",
        "outputId": "c82b2307-9e12-4d76-e4dc-7e8731eba905"
      },
      "outputs": [
        {
          "data": {
            "text/plain": [
              "array([[ 1,  4,  9, 16, 25],\n",
              "       [ 4,  9, 16, 25, 36],\n",
              "       [ 9, 16, 25, 36, 49]])"
            ]
          },
          "execution_count": 52,
          "metadata": {},
          "output_type": "execute_result"
        }
      ],
      "source": [
        "arr1 * arr1"
      ]
    },
    {
      "cell_type": "code",
      "execution_count": null,
      "id": "bbe15cc2",
      "metadata": {
        "id": "bbe15cc2",
        "outputId": "c142029a-30dd-4454-a986-06bf5ddf1125"
      },
      "outputs": [
        {
          "data": {
            "text/plain": [
              "array([[1., 1., 1.],\n",
              "       [1., 1., 1.],\n",
              "       [1., 1., 1.],\n",
              "       [1., 1., 1.],\n",
              "       [1., 1., 1.]])"
            ]
          },
          "execution_count": 53,
          "metadata": {},
          "output_type": "execute_result"
        }
      ],
      "source": [
        "np.ones((5,3))"
      ]
    },
    {
      "cell_type": "code",
      "execution_count": null,
      "id": "6533e57a",
      "metadata": {
        "id": "6533e57a",
        "outputId": "b6028533-d9ae-463d-d364-1849b4183477"
      },
      "outputs": [
        {
          "data": {
            "text/plain": [
              "array([[0., 0., 0., 0., 0.],\n",
              "       [0., 0., 0., 0., 0.],\n",
              "       [0., 0., 0., 0., 0.],\n",
              "       [0., 0., 0., 0., 0.]])"
            ]
          },
          "execution_count": 54,
          "metadata": {},
          "output_type": "execute_result"
        }
      ],
      "source": [
        "np.zeros((4,5))"
      ]
    },
    {
      "cell_type": "code",
      "execution_count": null,
      "id": "b69c75d0",
      "metadata": {
        "id": "b69c75d0",
        "outputId": "3bdecc4f-abf2-4b79-8918-f772c00b680a"
      },
      "outputs": [
        {
          "data": {
            "text/plain": [
              "array([[42, 24],\n",
              "       [42, 27]])"
            ]
          },
          "execution_count": 78,
          "metadata": {},
          "output_type": "execute_result"
        }
      ],
      "source": [
        "np.random.randint(10,50,4).reshape(2,2)"
      ]
    },
    {
      "cell_type": "code",
      "execution_count": null,
      "id": "1c57dfae",
      "metadata": {
        "id": "1c57dfae",
        "outputId": "0586c567-170b-4fec-d2df-b1554dc4dad4"
      },
      "outputs": [
        {
          "data": {
            "text/plain": [
              "array([[-1.81506768, -0.18073426,  1.50531807,  0.04701715,  0.00345232,\n",
              "        -1.89048526],\n",
              "       [-1.19316745, -0.8222509 , -0.11386853, -1.47422866,  2.28291196,\n",
              "         0.02731563],\n",
              "       [ 0.4027173 ,  0.02478252, -1.44510603, -0.99842738, -0.07634666,\n",
              "        -0.81335324],\n",
              "       [ 0.9692424 ,  1.41109806, -0.33335031,  1.18717669,  0.59522992,\n",
              "         0.88923165],\n",
              "       [ 1.10478558, -0.44639422,  0.06939313,  0.64813885,  0.54669759,\n",
              "        -0.19369955]])"
            ]
          },
          "execution_count": 79,
          "metadata": {},
          "output_type": "execute_result"
        }
      ],
      "source": [
        "np.random.randn(5,6)"
      ]
    },
    {
      "cell_type": "code",
      "execution_count": null,
      "id": "c4e377f7",
      "metadata": {
        "id": "c4e377f7",
        "outputId": "f087deeb-9c76-4427-d395-c6d30b1c4fc4"
      },
      "outputs": [
        {
          "data": {
            "text/plain": [
              "array([[0.13871895, 0.58456466, 0.31541441, 0.67910295, 0.1837086 ,\n",
              "        0.08103746, 0.50976945],\n",
              "       [0.67483078, 0.41252643, 0.0877961 , 0.92338101, 0.25762097,\n",
              "        0.55850649, 0.26534539],\n",
              "       [0.05930126, 0.53209293, 0.90407746, 0.71743787, 0.89905166,\n",
              "        0.22360872, 0.10365036],\n",
              "       [0.36820358, 0.30483507, 0.49569278, 0.7850211 , 0.96484935,\n",
              "        0.72614993, 0.83010606]])"
            ]
          },
          "execution_count": 80,
          "metadata": {},
          "output_type": "execute_result"
        }
      ],
      "source": [
        "np.random.random_sample((4,7))"
      ]
    },
    {
      "cell_type": "code",
      "execution_count": null,
      "id": "b1db7481",
      "metadata": {
        "id": "b1db7481"
      },
      "outputs": [],
      "source": []
    }
  ],
  "metadata": {
    "kernelspec": {
      "display_name": "Python 3 (ipykernel)",
      "language": "python",
      "name": "python3"
    },
    "language_info": {
      "codemirror_mode": {
        "name": "ipython",
        "version": 3
      },
      "file_extension": ".py",
      "mimetype": "text/x-python",
      "name": "python",
      "nbconvert_exporter": "python",
      "pygments_lexer": "ipython3",
      "version": "3.9.7"
    },
    "colab": {
      "provenance": [],
      "include_colab_link": true
    }
  },
  "nbformat": 4,
  "nbformat_minor": 5
}