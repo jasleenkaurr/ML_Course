{
  "nbformat": 4,
  "nbformat_minor": 0,
  "metadata": {
    "colab": {
      "provenance": [],
      "authorship_tag": "ABX9TyPJyUdK75soX9TTXwgtFqcK",
      "include_colab_link": true
    },
    "kernelspec": {
      "name": "python3",
      "display_name": "Python 3"
    },
    "language_info": {
      "name": "python"
    }
  },
  "cells": [
    {
      "cell_type": "markdown",
      "metadata": {
        "id": "view-in-github",
        "colab_type": "text"
      },
      "source": [
        "<a href=\"https://colab.research.google.com/github/jasleenkaurr/ML_Course/blob/main/ML_assig5_Q2.ipynb\" target=\"_parent\"><img src=\"https://colab.research.google.com/assets/colab-badge.svg\" alt=\"Open In Colab\"/></a>"
      ]
    },
    {
      "cell_type": "markdown",
      "source": [
        "Use the weather dataset to implement the decision tree. Try different\n",
        "available parameters of the inbuilt method."
      ],
      "metadata": {
        "id": "1F5VVSJzCbWj"
      }
    },
    {
      "cell_type": "markdown",
      "source": [
        "Certainly! To implement a Decision Tree classifier using the Weather dataset in a Google Colab notebook, follow these steps:\n",
        "\n",
        "### Step 1: Import Libraries\n",
        "\n",
        "First, import the necessary libraries, including Pandas for data manipulation and Scikit-Learn for Decision Tree implementation.\n",
        "\n",
        "```python\n",
        "import pandas as pd\n",
        "from sklearn.model_selection import train_test_split\n",
        "from sklearn.tree import DecisionTreeClassifier\n",
        "from sklearn.metrics import accuracy_score, classification_report\n",
        "```\n",
        "\n",
        "### Step 2: Load and Explore the Weather Dataset\n",
        "\n",
        "Load the Weather dataset and explore its structure.\n",
        "\n",
        "```python\n",
        "# Load the weather dataset (assuming the dataset is in a CSV file named 'weather.csv')\n",
        "url = \"https://example.com/weather.csv\"  # Replace with the actual URL of the dataset\n",
        "weather_data = pd.read_csv(url)\n",
        "\n",
        "# Explore the dataset\n",
        "print(weather_data.head())\n",
        "```\n",
        "\n",
        "### Step 3: Preprocess the Data\n",
        "\n",
        "Prepare the features and target variable for training the Decision Tree classifier.\n",
        "\n",
        "```python\n",
        "# Extract features and target variable\n",
        "X = weather_data.drop(columns=[\"play\"])\n",
        "y = weather_data[\"play\"]\n",
        "\n",
        "# Convert categorical features into numerical using one-hot encoding\n",
        "X = pd.get_dummies(X)\n",
        "\n",
        "# Split the data into training and testing sets\n",
        "X_train, X_test, y_train, y_test = train_test_split(X, y, test_size=0.2, random_state=42)\n",
        "```\n",
        "\n",
        "### Step 4: Implement Decision Tree Classifier\n",
        "\n",
        "Implement the Decision Tree classifier and try different available parameters.\n",
        "\n",
        "```python\n",
        "# Initialize Decision Tree classifier with different parameters\n",
        "# Example: criterion='entropy', max_depth=3, min_samples_split=2\n",
        "clf = DecisionTreeClassifier(criterion='entropy', max_depth=3, min_samples_split=2)\n",
        "\n",
        "# Train the classifier on the training data\n",
        "clf.fit(X_train, y_train)\n",
        "\n",
        "# Make predictions on the test data\n",
        "predictions = clf.predict(X_test)\n",
        "\n",
        "# Evaluate the model\n",
        "accuracy = accuracy_score(y_test, predictions)\n",
        "print(\"Accuracy:\", accuracy)\n",
        "print(\"Classification Report:\")\n",
        "print(classification_report(y_test, predictions))\n",
        "```\n",
        "\n",
        "In this example, the `DecisionTreeClassifier` is initialized with parameters `criterion='entropy'`, `max_depth=3`, and `min_samples_split=2`. You can experiment with different values for these parameters to observe how they affect the model's performance. Run the code cells in a Google Colab notebook to see the results with different parameter settings."
      ],
      "metadata": {
        "id": "GpQVytTSCfAT"
      }
    },
    {
      "cell_type": "code",
      "execution_count": 1,
      "metadata": {
        "id": "ogtUDhvS8NJp"
      },
      "outputs": [],
      "source": [
        "import pandas as pd\n",
        "from sklearn.model_selection import train_test_split\n",
        "from sklearn.tree import DecisionTreeClassifier\n",
        "from sklearn.metrics import accuracy_score, classification_report\n"
      ]
    },
    {
      "cell_type": "code",
      "source": [
        "weather_data = pd.read_csv('/content/weather.csv')\n"
      ],
      "metadata": {
        "id": "lsl10oIeA0Nu"
      },
      "execution_count": 3,
      "outputs": []
    },
    {
      "cell_type": "code",
      "source": [
        "print(weather_data.head())\n"
      ],
      "metadata": {
        "colab": {
          "base_uri": "https://localhost:8080/"
        },
        "id": "GY9o1NKUBQ0u",
        "outputId": "df4fb739-465d-41c1-c822-8b7888962122"
      },
      "execution_count": 4,
      "outputs": [
        {
          "output_type": "stream",
          "name": "stdout",
          "text": [
            "    Outlook  Temp Humidity  Windy  Play\n",
            "0     rainy   hot     high      0     0\n",
            "1     rainy   hot     high      1     0\n",
            "2  overcast   hot     high      0     1\n",
            "3     sunny  mild     high      0     1\n",
            "4     sunny  cool   normal      0     1\n"
          ]
        }
      ]
    },
    {
      "cell_type": "code",
      "source": [
        "X = weather_data.drop(columns=[\"Play\"])\n",
        "y = weather_data[\"Play\"]\n"
      ],
      "metadata": {
        "id": "4GP4Fp_hBVpi"
      },
      "execution_count": 6,
      "outputs": []
    },
    {
      "cell_type": "code",
      "source": [
        "X = pd.get_dummies(X)\n"
      ],
      "metadata": {
        "id": "PCXsb9ygBq4D"
      },
      "execution_count": 7,
      "outputs": []
    },
    {
      "cell_type": "code",
      "source": [
        "X_train, X_test, y_train, y_test = train_test_split(X, y, test_size=0.2, random_state=42)\n"
      ],
      "metadata": {
        "id": "DZ5_M2kcBxzI"
      },
      "execution_count": 8,
      "outputs": []
    },
    {
      "cell_type": "code",
      "source": [
        "clf = DecisionTreeClassifier(criterion='entropy', max_depth=3, min_samples_split=2)\n",
        "clf.fit(X_train, y_train)\n",
        "predictions = clf.predict(X_test)\n",
        "accuracy = accuracy_score(y_test, predictions)\n",
        "print(\"Accuracy:\", accuracy)\n",
        "print(\"Classification Report:\")\n",
        "print(classification_report(y_test, predictions))\n"
      ],
      "metadata": {
        "colab": {
          "base_uri": "https://localhost:8080/"
        },
        "id": "M0CaK0rOBzNW",
        "outputId": "d41af51c-ef61-4152-cf0a-0988855cd7cb"
      },
      "execution_count": 9,
      "outputs": [
        {
          "output_type": "stream",
          "name": "stdout",
          "text": [
            "Accuracy: 0.6666666666666666\n",
            "Classification Report:\n",
            "              precision    recall  f1-score   support\n",
            "\n",
            "           0       0.50      1.00      0.67         1\n",
            "           1       1.00      0.50      0.67         2\n",
            "\n",
            "    accuracy                           0.67         3\n",
            "   macro avg       0.75      0.75      0.67         3\n",
            "weighted avg       0.83      0.67      0.67         3\n",
            "\n"
          ]
        }
      ]
    }
  ]
}